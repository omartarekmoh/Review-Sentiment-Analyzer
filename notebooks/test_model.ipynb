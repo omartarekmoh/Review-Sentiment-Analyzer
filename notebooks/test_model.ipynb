{
 "cells": [
  {
   "cell_type": "code",
   "execution_count": 3,
   "metadata": {},
   "outputs": [],
   "source": [
    "import torch\n",
    "import torch.nn as nn\n",
    "import torch.nn.functional as F"
   ]
  },
  {
   "cell_type": "code",
   "execution_count": 4,
   "metadata": {},
   "outputs": [],
   "source": [
    "class ReviewClassifier(nn.Module):\n",
    "    def __init__(self, num_features):\n",
    "        super(ReviewClassifier, self).__init__()\n",
    "        # Define a fully connected layer\n",
    "        self.fc1 = nn.Linear(in_features=num_features, out_features=1)\n",
    "\n",
    "    def forward(self, x_in, apply_sigmoid=False):\n",
    "        # Apply the fully connected layer\n",
    "        y_out = self.fc1(x_in).squeeze()\n",
    "        # Optionally apply the sigmoid function\n",
    "        if apply_sigmoid:\n",
    "            y_out = torch.sigmoid(y_out)\n",
    "        return y_out"
   ]
  },
  {
   "cell_type": "code",
   "execution_count": 5,
   "metadata": {},
   "outputs": [
    {
     "name": "stdout",
     "output_type": "stream",
     "text": [
      "Logits: tensor([ 0.4381, -1.3304,  0.5426, -1.0770, -1.1607, -0.4589, -0.0310,  0.2924,\n",
      "        -0.8155, -0.6312, -0.8237, -0.3723, -0.6113, -0.0875, -0.7313,  0.5840,\n",
      "        -0.0458,  0.0504, -0.6690, -0.2345, -0.1713, -1.4027, -0.3917, -0.2650,\n",
      "        -0.0340,  0.0970, -0.4621,  0.4595, -0.9559, -0.5157,  0.0623, -0.0275],\n",
      "       grad_fn=<SqueezeBackward0>)\n",
      "Probabilities: tensor([0.6078, 0.2091, 0.6324, 0.2541, 0.2385, 0.3872, 0.4923, 0.5726, 0.3067,\n",
      "        0.3472, 0.3050, 0.4080, 0.3518, 0.4781, 0.3249, 0.6420, 0.4885, 0.5126,\n",
      "        0.3387, 0.4416, 0.4573, 0.1974, 0.4033, 0.4341, 0.4915, 0.5242, 0.3865,\n",
      "        0.6129, 0.2777, 0.3739, 0.5156, 0.4931], grad_fn=<SigmoidBackward0>)\n",
      "Loss: 0.7915031909942627\n"
     ]
    }
   ],
   "source": [
    "# Example usage\n",
    "num_features = 10  # Number of input features\n",
    "model = ReviewClassifier(num_features)\n",
    "\n",
    "# Create a batch of 32 samples, each with 10 features\n",
    "x_in = torch.randn(32, num_features)\n",
    "\n",
    "# Get the raw logits output (without sigmoid)\n",
    "logits = model(x_in)\n",
    "print(\"Logits:\", logits)\n",
    "\n",
    "# Get the probability output (with sigmoid)\n",
    "probabilities = model(x_in, apply_sigmoid=True)\n",
    "print(\"Probabilities:\", probabilities)\n",
    "\n",
    "# Define the loss function\n",
    "criterion = nn.BCEWithLogitsLoss()\n",
    "\n",
    "# Generate some example target values\n",
    "targets = torch.randint(0, 2, (32,)).float()\n",
    "\n",
    "# Calculate the loss using raw logits (preferred for numerical stability)\n",
    "loss = criterion(logits, targets)\n",
    "print(\"Loss:\", loss.item())"
   ]
  }
 ],
 "metadata": {
  "kernelspec": {
   "display_name": "base",
   "language": "python",
   "name": "python3"
  },
  "language_info": {
   "codemirror_mode": {
    "name": "ipython",
    "version": 3
   },
   "file_extension": ".py",
   "mimetype": "text/x-python",
   "name": "python",
   "nbconvert_exporter": "python",
   "pygments_lexer": "ipython3",
   "version": "3.11.7"
  }
 },
 "nbformat": 4,
 "nbformat_minor": 2
}
